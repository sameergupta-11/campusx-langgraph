{
 "cells": [
  {
   "cell_type": "code",
   "execution_count": 1,
   "id": "c5e35b30",
   "metadata": {},
   "outputs": [],
   "source": [
    "from langgraph.graph import StateGraph, START, END\n",
    "from langchain_openai import ChatOpenAI\n",
    "from typing import TypedDict, Literal, Annotated\n",
    "from dotenv import load_dotenv\n",
    "from pydantic import BaseModel, Field\n",
    "from langchain_core.messages import SystemMessage, HumanMessage\n",
    "import operator"
   ]
  },
  {
   "cell_type": "code",
   "execution_count": 2,
   "id": "f60cf707",
   "metadata": {},
   "outputs": [],
   "source": [
    "generator_llm = ChatOpenAI(model='gpt-4o-mini')\n",
    "evaluator_llm = ChatOpenAI(model='gpt-4o-mini')\n",
    "optimizer_llm = ChatOpenAI(model='gpt-4o-mini')"
   ]
  },
  {
   "cell_type": "code",
   "execution_count": 3,
   "id": "a9600eab",
   "metadata": {},
   "outputs": [],
   "source": [
    "# schema\n",
    "class TweetEvaluation(BaseModel):\n",
    "    evaluation: Literal[\"approved\", \"needs_improvement\"] = Field(..., description=\"Final evaluation result.\")\n",
    "    feedback: str = Field(..., description=\"feedback for the tweet.\")\n"
   ]
  },
  {
   "cell_type": "code",
   "execution_count": 4,
   "id": "d8315544",
   "metadata": {},
   "outputs": [],
   "source": [
    "structured_evaluator_llm = evaluator_llm.with_structured_output(TweetEvaluation)"
   ]
  },
  {
   "cell_type": "code",
   "execution_count": 5,
   "id": "437ceafc",
   "metadata": {},
   "outputs": [],
   "source": [
    "# state\n",
    "\n",
    "class TweetState(TypedDict):\n",
    "\n",
    "    topic: str\n",
    "    tweet: str\n",
    "    evaluation: Literal[\"approved\", \"needs_improvement\"]\n",
    "    feedback: str\n",
    "    iteration: int\n",
    "    max_iteration: int\n",
    "\n",
    "    tweet_history: Annotated[list[str], operator.add]\n",
    "    feedback_history: Annotated[list[str], operator.add]    "
   ]
  },
  {
   "cell_type": "code",
   "execution_count": 6,
   "id": "056579c6",
   "metadata": {},
   "outputs": [],
   "source": [
    "def generate_tweet(state: TweetState):\n",
    "\n",
    "    # prompt\n",
    "    messages = [\n",
    "        SystemMessage(content=\"You are a funny and clever Twitter/X influencer.\"),\n",
    "        HumanMessage(content=f\"\"\"\n",
    "        Write a short, original, and hilarious tweet on the topic: \"{state['topic']}\".\n",
    "\n",
    "        Rules:\n",
    "        - Do NOT use question-answer format.\n",
    "        - Max 280 characters.\n",
    "        - Use observational humor, irony, sarcasm, or cultural references.\n",
    "        - Think in meme logic, punchlines, or relatable takes.\n",
    "        - Use simple, day to day english\n",
    "        \"\"\")\n",
    "    ]\n",
    "\n",
    "    # send generator_llm\n",
    "    response = generator_llm.invoke(messages).content\n",
    "\n",
    "    return {'tweet': response, 'tweet_history': [response]}"
   ]
  },
  {
   "cell_type": "code",
   "execution_count": 7,
   "id": "4302fa5d",
   "metadata": {},
   "outputs": [],
   "source": [
    "def evaluate_tweet(state: TweetState):\n",
    "\n",
    "    # prompt\n",
    "    messages = [\n",
    "    SystemMessage(content=\"You are a ruthless, no-laugh-given Twitter critic. You evaluate tweets based on humor, originality, virality, and tweet format.\"),\n",
    "    HumanMessage(content=f\"\"\"\n",
    "        Evaluate the following tweet:\n",
    "\n",
    "        Tweet: \"{state['tweet']}\"\n",
    "\n",
    "        Use the criteria below to evaluate the tweet:\n",
    "\n",
    "        1. Originality - Is this fresh, or have you seen it a hundred times before?  \n",
    "        2. Humor - Did it genuinely make you smile, laugh, or chuckle?  \n",
    "        3. Punchiness - Is it short, sharp, and scroll-stopping?  \n",
    "        4. Virality Potential - Would people retweet or share it?  \n",
    "        5. Format - Is it a well-formed tweet (not a setup-punchline joke, not a Q&A joke, and under 280 characters)?\n",
    "\n",
    "        Auto-reject if:\n",
    "        - It's written in question-answer format (e.g., \"Why did...\" or \"What happens when...\")\n",
    "        - It exceeds 280 characters\n",
    "        - It reads like a traditional setup-punchline joke\n",
    "        - Dont end with generic, throwaway, or deflating lines that weaken the humor (e.g., “Masterpieces of the auntie-uncle universe” or vague summaries)\n",
    "\n",
    "        ### Respond ONLY in structured format:\n",
    "        - evaluation: \"approved\" or \"needs_improvement\"  \n",
    "        - feedback: One paragraph explaining the strengths and weaknesses \n",
    "        \"\"\")\n",
    "    ]\n",
    "\n",
    "    response = structured_evaluator_llm.invoke(messages)\n",
    "\n",
    "    return {'evaluation': response.evaluation, 'feedback': response.feedback, 'feedback_history': [response.feedback]} "
   ]
  },
  {
   "cell_type": "code",
   "execution_count": 8,
   "id": "ef547376",
   "metadata": {},
   "outputs": [],
   "source": [
    "def optimize_tweet(state: TweetState):\n",
    "\n",
    "    messages = [\n",
    "        SystemMessage(content=\"You punch up tweets for virality and humor based on given feedback.\"),\n",
    "        HumanMessage(content=f\"\"\"\n",
    "        Improve the tweet based on this feedback:\n",
    "        \"{state['feedback']}\"\n",
    "\n",
    "        Topic: \"{state['topic']}\"\n",
    "        Original Tweet:\n",
    "        {state['tweet']}\n",
    "\n",
    "        Re-write it as a short, viral-worthy tweet. Avoid Q&A style and stay under 280 characters.\n",
    "        \"\"\")\n",
    "    ]\n",
    "\n",
    "    response = optimizer_llm.invoke(messages).content\n",
    "    iteration = state['iteration'] + 1\n",
    "\n",
    "    return {'tweet': response, 'iteration': iteration, 'tweet_history': [response]}"
   ]
  },
  {
   "cell_type": "code",
   "execution_count": 9,
   "id": "8eebab8a",
   "metadata": {},
   "outputs": [],
   "source": [
    "def route_evaluation(state: TweetState):\n",
    "\n",
    "    if state['evaluation'] == 'approved' or state['iteration'] >= state['max_iteration']:\n",
    "        return 'approved'\n",
    "    else:\n",
    "        return 'needs_improvement'"
   ]
  },
  {
   "cell_type": "code",
   "execution_count": 10,
   "id": "5d107dcc",
   "metadata": {},
   "outputs": [
    {
     "data": {
      "image/png": "[encoded data removed]",
      "text/plain": [
       "<langgraph.graph.state.CompiledStateGraph object at 0x10a8105c0>"
      ]
     },
     "execution_count": 10,
     "metadata": {},
     "output_type": "execute_result"
    }
   ],
   "source": [
    "graph = StateGraph(TweetState)\n",
    "\n",
    "graph.add_node('generate', generate_tweet)\n",
    "graph.add_node('evaluate', evaluate_tweet)\n",
    "graph.add_node('optimize', optimize_tweet)\n",
    "\n",
    "\n",
    "graph.add_edge(START, 'generate')\n",
    "graph.add_edge('generate', 'evaluate')\n",
    "\n",
    "graph.add_conditional_edges('evaluate', route_evaluation, {'approved': END, 'needs_improvement': 'optimize'})\n",
    "graph.add_edge('optimize', 'evaluate')\n",
    "\n",
    "workflow = graph.compile()\n",
    "\n",
    "workflow"
   ]
  },
  {
   "cell_type": "code",
   "execution_count": 12,
   "id": "19523fde",
   "metadata": {},
   "outputs": [
    {
     "data": {
      "text/plain": [
       "{'topic': 'Indian Railways',\n",
       " 'tweet': \"Indian Railways: where the only thing that runs on time is the chai guy. 🚂☕ If they put half the effort into the train schedules that they do into naming all the samosas on the menu, we'd have bullet trains by now! #TrainOfThought #ChaiAndChaos\",\n",
       " 'evaluation': 'approved',\n",
       " 'feedback': \"This tweet showcases originality with a relatable theme about Indian Railways and cleverly contrasts the punctuality of chai vendors with train schedules. The humor is spot on, providing a light-hearted jab that many can connect with, which may elicit smiles or laughter. It is punchy and maintains a good rhythm, making it engaging enough to capture attention while being under the character limit. The use of hashtags enhances its virality potential, making it more shareable among audiences who appreciate cultural commentary. Overall, it's well-crafted, making it a strong tweet.\",\n",
       " 'iteration': 1,\n",
       " 'max_iteration': 5,\n",
       " 'tweet_history': [\"Indian Railways: where the only thing that runs on time is the chai guy. 🚂☕ If they put half the effort into the train schedules that they do into naming all the samosas on the menu, we'd have bullet trains by now! #TrainOfThought #ChaiAndChaos\"],\n",
       " 'feedback_history': [\"This tweet showcases originality with a relatable theme about Indian Railways and cleverly contrasts the punctuality of chai vendors with train schedules. The humor is spot on, providing a light-hearted jab that many can connect with, which may elicit smiles or laughter. It is punchy and maintains a good rhythm, making it engaging enough to capture attention while being under the character limit. The use of hashtags enhances its virality potential, making it more shareable among audiences who appreciate cultural commentary. Overall, it's well-crafted, making it a strong tweet.\"]}"
      ]
     },
     "execution_count": 12,
     "metadata": {},
     "output_type": "execute_result"
    }
   ],
   "source": [
    "initial_state = {\n",
    "    'topic': \"Indian Railways\",\n",
    "    'iteration': 1,\n",
    "    'max_iteration': 5\n",
    "}\n",
    "\n",
    "workflow.invoke(initial_state)"
   ]
  },
  {
   "cell_type": "code",
   "execution_count": null,
   "id": "f56e871b",
   "metadata": {},
   "outputs": [],
   "source": []
  },
  {
   "cell_type": "code",
   "execution_count": null,
   "id": "32fe4ab1",
   "metadata": {},
   "outputs": [],
   "source": []
  },
  {
   "cell_type": "code",
   "execution_count": null,
   "id": "d25151c2",
   "metadata": {},
   "outputs": [],
   "source": []
  }
 ],
 "metadata": {
  "kernelspec": {
   "display_name": "langgraph-env",
   "language": "python",
   "name": "python3"
  },
  "language_info": {
   "codemirror_mode": {
    "name": "ipython",
    "version": 3
   },
   "file_extension": ".py",
   "mimetype": "text/x-python",
   "name": "python",
   "nbconvert_exporter": "python",
   "pygments_lexer": "ipython3",
   "version": "3.12.2"
  }
 },
 "nbformat": 4,
 "nbformat_minor": 5
}

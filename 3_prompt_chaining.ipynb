{
 "cells": [
  {
   "cell_type": "code",
   "execution_count": 1,
   "id": "07f4c13d",
   "metadata": {},
   "outputs": [],
   "source": [
    "from langgraph.graph import StateGraph, START, END\n",
    "from langchain_openai import ChatOpenAI\n",
    "from typing import TypedDict\n",
    "from dotenv import load_dotenv"
   ]
  },
  {
   "cell_type": "code",
   "execution_count": 2,
   "id": "d68d9461",
   "metadata": {},
   "outputs": [],
   "source": [
    "load_dotenv()\n",
    "model = ChatOpenAI()"
   ]
  },
  {
   "cell_type": "code",
   "execution_count": 3,
   "id": "92de45a0",
   "metadata": {},
   "outputs": [],
   "source": [
    "# define the state\n",
    "class BlogState(TypedDict):\n",
    "\n",
    "    title: str\n",
    "    outline: str\n",
    "    content: str"
   ]
  },
  {
   "cell_type": "code",
   "execution_count": 6,
   "id": "469f59b6",
   "metadata": {},
   "outputs": [],
   "source": [
    "def create_outline(state: BlogState) -> BlogState:\n",
    "\n",
    "    # fetch title\n",
    "    title = state['title']\n",
    "\n",
    "    # call llm gen outline\n",
    "    prompt = f'Generate a detailed outline for a blog on the topic - {title}'\n",
    "    outline = model.invoke(prompt).content\n",
    "\n",
    "    # update state\n",
    "    state['outline'] = outline\n",
    "\n",
    "    return state"
   ]
  },
  {
   "cell_type": "code",
   "execution_count": 7,
   "id": "796369b9",
   "metadata": {},
   "outputs": [],
   "source": [
    "def create_blog(state: BlogState) -> BlogState:\n",
    "\n",
    "    # fetch title\n",
    "    title = state['title']\n",
    "    outline = state['outline']\n",
    "\n",
    "    # call llm gen outline\n",
    "    prompt = f'Write a detailed blog on the title {title} using the following outline {outline}'\n",
    "    content = model.invoke(prompt).content\n",
    "\n",
    "    # update state\n",
    "    state['content'] = content\n",
    "\n",
    "    return state"
   ]
  },
  {
   "cell_type": "code",
   "execution_count": 9,
   "id": "84528335",
   "metadata": {},
   "outputs": [],
   "source": [
    "graph = StateGraph(BlogState)\n",
    "\n",
    "# nodes\n",
    "graph.add_node('create_outline', create_outline)\n",
    "graph.add_node('create_blog', create_blog)\n",
    "\n",
    "\n",
    "# edges\n",
    "graph.add_edge(START, 'create_outline')\n",
    "graph.add_edge('create_outline', 'create_blog')\n",
    "graph.add_edge('create_blog', END)\n",
    "\n",
    "workflow = graph.compile()"
   ]
  },
  {
   "cell_type": "code",
   "execution_count": 10,
   "id": "79efd5e5",
   "metadata": {},
   "outputs": [
    {
     "data": {
      "image/png": "[encoded data removed]",
      "text/plain": [
       "<langgraph.graph.state.CompiledStateGraph object at 0x10a20c5c0>"
      ]
     },
     "execution_count": 10,
     "metadata": {},
     "output_type": "execute_result"
    }
   ],
   "source": [
    "workflow"
   ]
  },
  {
   "cell_type": "code",
   "execution_count": 11,
   "id": "42cc1a57",
   "metadata": {},
   "outputs": [
    {
     "name": "stdout",
     "output_type": "stream",
     "text": [
      "{'title': 'Rise of AI in India', 'outline': 'I. Introduction \\n    A. Background information on AI\\n    B. Importance of AI in various industries\\n    C. Overview of AI development in India\\n\\nII. History of AI in India \\n    A. Early adoption of AI technologies \\n    B. Growth of AI startups in India \\n    C. Government initiatives to promote AI research and development \\n\\nIII. Impact of AI on Indian economy \\n    A. Role of AI in job creation and automation \\n    B. AI in healthcare, agriculture, and other key sectors \\n    C. Potential for economic growth through AI \\n\\nIV. Challenges and opportunities \\n    A. Ethical considerations in AI development \\n    B. Skills gap in AI workforce \\n    C. Role of education and training in promoting AI adoption \\n\\nV. Future outlook \\n    A. AI trends in India \\n    B. Predictions for AI development in the next decade \\n    C. Opportunities for collaboration and innovation in AI \\n\\nVI. Conclusion \\n    A. Recap of key points discussed \\n    B. Final thoughts on the rise of AI in India \\n    C. Call to action for further exploration of AI opportunities in India.', 'content': \"I. Introduction\\n\\nArtificial Intelligence (AI) has been a buzzword in the tech world for quite some time now, with its potential to revolutionize various industries. In recent years, AI has gained significant traction in India as well, with the country emerging as a hub for AI research, development, and innovation. This blog will delve into the rise of AI in India, highlighting its history, impact on the economy, challenges and opportunities, future outlook, and concluding with a call to action for further exploration of AI opportunities in the country.\\n\\nII. History of AI in India\\n\\nA. Early adoption of AI technologies\\nIndia has a long history of embracing cutting-edge technologies, and AI is no exception. The country has been quick to adopt AI technologies across various sectors, including healthcare, finance, e-commerce, and manufacturing. Companies in India have been leveraging AI to improve business operations, enhance customer experiences, and drive innovation.\\n\\nB. Growth of AI startups in India\\nIn recent years, India has witnessed a surge in the number of AI startups, with entrepreneurs and technologists leveraging AI to solve complex problems in different domains. These startups are not only developing AI-driven products and solutions but also contributing to the growth of the AI ecosystem in the country.\\n\\nC. Government initiatives to promote AI research and development\\nThe Indian government has also been proactive in promoting AI research and development in the country. Initiatives such as the National AI Portal, National Programme on AI, and Centers of Excellence in AI have been launched to foster collaboration between industry, academia, and government in advancing AI technologies.\\n\\nIII. Impact of AI on the Indian economy\\n\\nA. Role of AI in job creation and automation\\nWhile there are concerns about AI displacing jobs, it also has the potential to create new job opportunities in emerging fields such as data science, machine learning, and AI research. AI automation can also streamline business processes, increase productivity, and drive economic growth.\\n\\nB. AI in healthcare, agriculture, and other key sectors\\nAI has the potential to transform key sectors such as healthcare, agriculture, education, and transportation in India. AI-driven solutions can help healthcare providers in diagnosing diseases, farmers in optimizing crop yields, educators in delivering personalized learning experiences, and transportation companies in improving logistics and safety.\\n\\nC. Potential for economic growth through AI\\nAI presents a significant opportunity for India to enhance its competitiveness in the global market and drive economic growth. By investing in AI research, developing AI talent, and fostering innovation, India can position itself as a leader in AI technologies and create a thriving AI ecosystem.\\n\\nIV. Challenges and opportunities\\n\\nA. Ethical considerations in AI development\\nAs AI technologies continue to advance, ethical considerations around bias, privacy, and transparency have become increasingly important. It is crucial for businesses, policymakers, and researchers in India to address these ethical challenges and ensure that AI is developed and deployed responsibly.\\n\\nB. Skills gap in the AI workforce\\nOne of the key challenges facing India's AI ecosystem is the skills gap in the AI workforce. There is a growing demand for AI professionals with expertise in machine learning, data science, and AI research, but a shortage of skilled professionals in these areas. Addressing this skills gap through education and training programs is essential for the growth of India's AI industry.\\n\\nC. Role of education and training in promoting AI adoption\\nTo foster AI innovation and entrepreneurship in India, there is a need to focus on education and training in AI-related fields. Initiatives such as AI education programs, boot camps, and workshops can help develop a skilled workforce capable of driving AI research and development in the country.\\n\\nV. Future outlook\\n\\nA. AI trends in India\\nThe future of AI in India looks promising, with advancements in AI technologies such as deep learning, reinforcement learning, and natural language processing. AI adoption is expected to increase across sectors, leading to greater efficiencies, personalized experiences, and new opportunities for growth.\\n\\nB. Predictions for AI development in the next decade\\nIn the next decade, we can expect to see further integration of AI technologies in everyday life, with AI-powered solutions becoming more pervasive and sophisticated. India is poised to play a significant role in shaping the future of AI through research, innovation, and collaboration.\\n\\nC. Opportunities for collaboration and innovation in AI\\nCollaboration between industry, academia, and government will be key to driving AI innovation in India. By fostering partnerships, sharing knowledge, and supporting research initiatives, India can leverage AI to address societal challenges, drive economic growth, and enhance its global competitiveness.\\n\\nVI. Conclusion\\n\\nIn conclusion, the rise of AI in India represents a significant opportunity for the country to harness the potential of AI technologies and drive innovation across sectors. By addressing challenges, fostering collaboration, and investing in education and training, India can position itself as a global leader in AI research and development. As we look to the future, there is a need for continued exploration of AI opportunities in India and a commitment to creating an AI ecosystem that is inclusive, ethical, and sustainable. Let's embrace the rise of AI in India and work together to unlock its full potential for the benefit of society.\"}\n"
     ]
    }
   ],
   "source": [
    "initial_state = {'title': 'Rise of AI in India'}\n",
    "\n",
    "final_state = workflow.invoke(initial_state)\n",
    "\n",
    "print(final_state)"
   ]
  },
  {
   "cell_type": "code",
   "execution_count": 14,
   "id": "5d003bc7",
   "metadata": {},
   "outputs": [
    {
     "name": "stdout",
     "output_type": "stream",
     "text": [
      "I. Introduction \n",
      "    A. Background information on AI\n",
      "    B. Importance of AI in various industries\n",
      "    C. Overview of AI development in India\n",
      "\n",
      "II. History of AI in India \n",
      "    A. Early adoption of AI technologies \n",
      "    B. Growth of AI startups in India \n",
      "    C. Government initiatives to promote AI research and development \n",
      "\n",
      "III. Impact of AI on Indian economy \n",
      "    A. Role of AI in job creation and automation \n",
      "    B. AI in healthcare, agriculture, and other key sectors \n",
      "    C. Potential for economic growth through AI \n",
      "\n",
      "IV. Challenges and opportunities \n",
      "    A. Ethical considerations in AI development \n",
      "    B. Skills gap in AI workforce \n",
      "    C. Role of education and training in promoting AI adoption \n",
      "\n",
      "V. Future outlook \n",
      "    A. AI trends in India \n",
      "    B. Predictions for AI development in the next decade \n",
      "    C. Opportunities for collaboration and innovation in AI \n",
      "\n",
      "VI. Conclusion \n",
      "    A. Recap of key points discussed \n",
      "    B. Final thoughts on the rise of AI in India \n",
      "    C. Call to action for further exploration of AI opportunities in India.\n"
     ]
    }
   ],
   "source": [
    "print(final_state['outline'])"
   ]
  },
  {
   "cell_type": "code",
   "execution_count": null,
   "id": "3d256449",
   "metadata": {},
   "outputs": [],
   "source": []
  }
 ],
 "metadata": {
  "kernelspec": {
   "display_name": "langgraph-env",
   "language": "python",
   "name": "python3"
  },
  "language_info": {
   "codemirror_mode": {
    "name": "ipython",
    "version": 3
   },
   "file_extension": ".py",
   "mimetype": "text/x-python",
   "name": "python",
   "nbconvert_exporter": "python",
   "pygments_lexer": "ipython3",
   "version": "3.12.2"
  }
 },
 "nbformat": 4,
 "nbformat_minor": 5
}
